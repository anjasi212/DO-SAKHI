{
  "nbformat": 4,
  "nbformat_minor": 0,
  "metadata": {
    "colab": {
      "provenance": []
    },
    "kernelspec": {
      "name": "python3",
      "display_name": "Python 3"
    },
    "language_info": {
      "name": "python"
    }
  },
  "cells": [
    {
      "cell_type": "code",
      "execution_count": null,
      "metadata": {
        "id": "jdNRocae7zT-"
      },
      "outputs": [],
      "source": [
        "import os\n",
        "import google.generativeai as genai\n",
        "from pathlib import Path\n",
        "from IPython.display import Audio, display\n",
        "\n",
        "# Set your API key (replace with your actual API key)\n",
        "genai.configure(api_key=\"Your_Gemini_API_Key\") # Replace with your Gemini API key\n",
        "\n",
        "# Define the URL of your PDF file\n",
        "SOURCE_FILE_URL = \"Your_Source_File_Optional_URL\"\n",
        "\n",
        "# Create a prompt for generating a podcast-style script in Hindi\n",
        "prompt = f\"\"\"\n",
        "Imagine you are a compassionate educator and storyteller who seamlessly blends modern health science with India's rich tapestry of folklore.\n",
        "Create a detailed, single-person narrative script in Hindi that explains the menstrual cycle in a simple, accessible way.\n",
        "Your explanation should demystify the biological processes involved while incorporating local Indian folklore, traditional myths,\n",
        "cultural symbols, and allegories. Use relatable analogies from age-old Indian stories and rituals to make the complex concepts\n",
        "clear and engaging for someone with little to no background in health science at the following URL:\n",
        "{SOURCE_FILE_URL}\n",
        "\n",
        "Make sure the script flows naturally for an audio presentation.\n",
        "\"\"\"\n",
        "\n",
        "# Initialize the Gemini Pro model\n",
        "model = genai.GenerativeModel('gemini-2.0-flash')\n",
        "\n",
        "# Generate the podcast script using Gemini Pro\n",
        "try:\n",
        "    response = model.generate_content(\n",
        "        [\n",
        "            {\"role\": \"user\", \"parts\": [prompt]}\n",
        "        ],\n",
        "        generation_config=genai.types.GenerationConfig(temperature=0.7)\n",
        "    )\n",
        "\n",
        "    # Extract the generated podcast script\n",
        "    podcast_script = response.text\n",
        "    print(\"Generated Podcast Script:\")\n",
        "    print(podcast_script)\n",
        "except Exception as e:\n",
        "    print(f\"An error occurred: {e}\")\n",
        "    print(\"Make sure you have a valid Gemini API key and that the 'gemini-pro' model is available.\")\n",
        "    print(\"Also, double check your internet connection.\")\n",
        "\n",
        "# Now, use the OpenAI audio speech endpoint to generate speech from the Hindi script\n",
        "speech_file_path = Path(\"speech.mp3\")\n",
        "api_key = \"ChatGPT_API_Key_For_TTS\"  # Replace with your actual API key\n",
        "client = openai.OpenAI(api_key=api_key)\n",
        "tts_response = client.audio.speech.create(\n",
        "    model=\"gpt-4o-mini-tts\",\n",
        "    voice=\"coral\",       # Voice Choice\n",
        "    input=podcast_script,\n",
        ")\n",
        "\n",
        "tts_response.stream_to_file(speech_file_path)\n",
        "\n",
        "# Display the audio player (in a Jupyter Notebook)\n",
        "display(Audio(str(speech_file_path), autoplay=True))"
      ]
    }
  ]
}